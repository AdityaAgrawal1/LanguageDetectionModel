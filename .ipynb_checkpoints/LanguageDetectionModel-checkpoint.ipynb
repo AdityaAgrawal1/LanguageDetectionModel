{
 "cells": [
  {
   "cell_type": "code",
   "execution_count": 25,
   "metadata": {},
   "outputs": [],
   "source": [
    "import string\n",
    "import re\n",
    "import codecs\n",
    "import numpy as np\n",
    "import pandas as pd\n",
    "import seaborn as sns\n",
    "import matplotlib.pyplot as plt\n",
    "from sklearn import feature_extraction\n",
    "from sklearn import linear_model\n",
    "from sklearn import pipeline\n",
    "from sklearn.model_selection import train_test_split\n",
    "from sklearn import metrics"
   ]
  },
  {
   "cell_type": "code",
   "execution_count": 17,
   "metadata": {},
   "outputs": [
    {
     "data": {
      "text/html": [
       "<div>\n",
       "<style scoped>\n",
       "    .dataframe tbody tr th:only-of-type {\n",
       "        vertical-align: middle;\n",
       "    }\n",
       "\n",
       "    .dataframe tbody tr th {\n",
       "        vertical-align: top;\n",
       "    }\n",
       "\n",
       "    .dataframe thead th {\n",
       "        text-align: right;\n",
       "    }\n",
       "</style>\n",
       "<table border=\"1\" class=\"dataframe\">\n",
       "  <thead>\n",
       "    <tr style=\"text-align: right;\">\n",
       "      <th></th>\n",
       "      <th>English</th>\n",
       "    </tr>\n",
       "  </thead>\n",
       "  <tbody>\n",
       "    <tr>\n",
       "      <th>0</th>\n",
       "      <td>https://globalvoices.org/2018/12/31/why-chines...</td>\n",
       "    </tr>\n",
       "    <tr>\n",
       "      <th>1</th>\n",
       "      <td>Why Chinese netizens believe a commodity index...</td>\n",
       "    </tr>\n",
       "    <tr>\n",
       "      <th>2</th>\n",
       "      <td>A \"Gilet Jaunes\" (Yellow Vests) protests in th...</td>\n",
       "    </tr>\n",
       "    <tr>\n",
       "      <th>3</th>\n",
       "      <td>A rumor about the spread of French â€œyellow v...</td>\n",
       "    </tr>\n",
       "    <tr>\n",
       "      <th>4</th>\n",
       "      <td>The story emerged after French president Emman...</td>\n",
       "    </tr>\n",
       "  </tbody>\n",
       "</table>\n",
       "</div>"
      ],
      "text/plain": [
       "                                             English\n",
       "0  https://globalvoices.org/2018/12/31/why-chines...\n",
       "1  Why Chinese netizens believe a commodity index...\n",
       "2  A \"Gilet Jaunes\" (Yellow Vests) protests in th...\n",
       "3  A rumor about the spread of French â€œyellow v...\n",
       "4  The story emerged after French president Emman..."
      ]
     },
     "execution_count": 17,
     "metadata": {},
     "output_type": "execute_result"
    }
   ],
   "source": [
    "#Loading English Data\n",
    "eng_df =pd.read_csv(\"English.txt\",\"utf-8\",header=None,engine ='python', names=[\"English\"])\n",
    "eng_df.head()"
   ]
  },
  {
   "cell_type": "code",
   "execution_count": 18,
   "metadata": {},
   "outputs": [
    {
     "data": {
      "text/html": [
       "<div>\n",
       "<style scoped>\n",
       "    .dataframe tbody tr th:only-of-type {\n",
       "        vertical-align: middle;\n",
       "    }\n",
       "\n",
       "    .dataframe tbody tr th {\n",
       "        vertical-align: top;\n",
       "    }\n",
       "\n",
       "    .dataframe thead th {\n",
       "        text-align: right;\n",
       "    }\n",
       "</style>\n",
       "<table border=\"1\" class=\"dataframe\">\n",
       "  <thead>\n",
       "    <tr style=\"text-align: right;\">\n",
       "      <th></th>\n",
       "      <th>German</th>\n",
       "    </tr>\n",
       "  </thead>\n",
       "  <tbody>\n",
       "    <tr>\n",
       "      <th>0</th>\n",
       "      <td>https://globalvoices.org/2018/12/28/bangladesh...</td>\n",
       "    </tr>\n",
       "    <tr>\n",
       "      <th>1</th>\n",
       "      <td>Bangladesh braces for fiercely contested parli...</td>\n",
       "    </tr>\n",
       "    <tr>\n",
       "      <th>2</th>\n",
       "      <td>Elections in Bangladesh are usually fanfares w...</td>\n",
       "    </tr>\n",
       "    <tr>\n",
       "      <th>3</th>\n",
       "      <td>On December 30, 2018, Bangladesh will hold its...</td>\n",
       "    </tr>\n",
       "    <tr>\n",
       "      <th>4</th>\n",
       "      <td>Tensions mounted in the country on the night o...</td>\n",
       "    </tr>\n",
       "  </tbody>\n",
       "</table>\n",
       "</div>"
      ],
      "text/plain": [
       "                                              German\n",
       "0  https://globalvoices.org/2018/12/28/bangladesh...\n",
       "1  Bangladesh braces for fiercely contested parli...\n",
       "2  Elections in Bangladesh are usually fanfares w...\n",
       "3  On December 30, 2018, Bangladesh will hold its...\n",
       "4  Tensions mounted in the country on the night o..."
      ]
     },
     "execution_count": 18,
     "metadata": {},
     "output_type": "execute_result"
    }
   ],
   "source": [
    "#Loading German Data\n",
    "ger_df =pd.read_csv(\"German.txt\",\"utf-8\",header=None,engine ='python', names=[\"German\"])\n",
    "ger_df.head()"
   ]
  },
  {
   "cell_type": "code",
   "execution_count": 19,
   "metadata": {},
   "outputs": [
    {
     "data": {
      "text/html": [
       "<div>\n",
       "<style scoped>\n",
       "    .dataframe tbody tr th:only-of-type {\n",
       "        vertical-align: middle;\n",
       "    }\n",
       "\n",
       "    .dataframe tbody tr th {\n",
       "        vertical-align: top;\n",
       "    }\n",
       "\n",
       "    .dataframe thead th {\n",
       "        text-align: right;\n",
       "    }\n",
       "</style>\n",
       "<table border=\"1\" class=\"dataframe\">\n",
       "  <thead>\n",
       "    <tr style=\"text-align: right;\">\n",
       "      <th></th>\n",
       "      <th>French</th>\n",
       "    </tr>\n",
       "  </thead>\n",
       "  <tbody>\n",
       "    <tr>\n",
       "      <th>0</th>\n",
       "      <td>https://da.globalvoices.org/2018/04/7976</td>\n",
       "    </tr>\n",
       "    <tr>\n",
       "      <th>1</th>\n",
       "      <td>EU-stÃ¸ttet rap skal fÃ¥ unge migranter til at...</td>\n",
       "    </tr>\n",
       "    <tr>\n",
       "      <th>2</th>\n",
       "      <td>Denne artikel af Ida Sophie Skriver Olsen blev...</td>\n",
       "    </tr>\n",
       "    <tr>\n",
       "      <th>3</th>\n",
       "      <td>â€�Tag ikke afsted, det bliver okayâ€� er buds...</td>\n",
       "    </tr>\n",
       "    <tr>\n",
       "      <th>4</th>\n",
       "      <td>Igen og igen synger den populÃ¦re guineanske r...</td>\n",
       "    </tr>\n",
       "  </tbody>\n",
       "</table>\n",
       "</div>"
      ],
      "text/plain": [
       "                                              French\n",
       "0           https://da.globalvoices.org/2018/04/7976\n",
       "1  EU-stÃ¸ttet rap skal fÃ¥ unge migranter til at...\n",
       "2  Denne artikel af Ida Sophie Skriver Olsen blev...\n",
       "3  â€�Tag ikke afsted, det bliver okayâ€� er buds...\n",
       "4  Igen og igen synger den populÃ¦re guineanske r..."
      ]
     },
     "execution_count": 19,
     "metadata": {},
     "output_type": "execute_result"
    }
   ],
   "source": [
    "#Loading French Data\n",
    "fre_df =pd.read_csv(\"French.txt\",\"utf-8\",header=None,engine ='python', names=[\"French\"])\n",
    "fre_df.head()"
   ]
  },
  {
   "cell_type": "code",
   "execution_count": 20,
   "metadata": {},
   "outputs": [
    {
     "data": {
      "text/html": [
       "<div>\n",
       "<style scoped>\n",
       "    .dataframe tbody tr th:only-of-type {\n",
       "        vertical-align: middle;\n",
       "    }\n",
       "\n",
       "    .dataframe tbody tr th {\n",
       "        vertical-align: top;\n",
       "    }\n",
       "\n",
       "    .dataframe thead th {\n",
       "        text-align: right;\n",
       "    }\n",
       "</style>\n",
       "<table border=\"1\" class=\"dataframe\">\n",
       "  <thead>\n",
       "    <tr style=\"text-align: right;\">\n",
       "      <th></th>\n",
       "      <th>Spanish</th>\n",
       "    </tr>\n",
       "  </thead>\n",
       "  <tbody>\n",
       "    <tr>\n",
       "      <th>0</th>\n",
       "      <td>https://es.globalvoices.org/2019/01/01/univers...</td>\n",
       "    </tr>\n",
       "    <tr>\n",
       "      <th>1</th>\n",
       "      <td>Universitario manifestante en HungrÃ­a: \"No qu...</td>\n",
       "    </tr>\n",
       "    <tr>\n",
       "      <th>2</th>\n",
       "      <td>Adrien Beauduin. Foto de Szabolcs Nagy / Index...</td>\n",
       "    </tr>\n",
       "    <tr>\n",
       "      <th>3</th>\n",
       "      <td>Nota del editor: La autora de este artÃ­culo s...</td>\n",
       "    </tr>\n",
       "    <tr>\n",
       "      <th>4</th>\n",
       "      <td>Lo han llamado el â€˜perfecto enemigo del rÃ©g...</td>\n",
       "    </tr>\n",
       "  </tbody>\n",
       "</table>\n",
       "</div>"
      ],
      "text/plain": [
       "                                             Spanish\n",
       "0  https://es.globalvoices.org/2019/01/01/univers...\n",
       "1  Universitario manifestante en HungrÃ­a: \"No qu...\n",
       "2  Adrien Beauduin. Foto de Szabolcs Nagy / Index...\n",
       "3  Nota del editor: La autora de este artÃ­culo s...\n",
       "4  Lo han llamado el â€˜perfecto enemigo del rÃ©g..."
      ]
     },
     "execution_count": 20,
     "metadata": {},
     "output_type": "execute_result"
    }
   ],
   "source": [
    "#Loading Spanish Data\n",
    "spa_df =pd.read_csv(\"Spanish.txt\",\"utf-8\",header=None,engine ='python', names=[\"Spanish\"])\n",
    "spa_df.head()"
   ]
  },
  {
   "cell_type": "code",
   "execution_count": 21,
   "metadata": {},
   "outputs": [
    {
     "data": {
      "text/html": [
       "<div>\n",
       "<style scoped>\n",
       "    .dataframe tbody tr th:only-of-type {\n",
       "        vertical-align: middle;\n",
       "    }\n",
       "\n",
       "    .dataframe tbody tr th {\n",
       "        vertical-align: top;\n",
       "    }\n",
       "\n",
       "    .dataframe thead th {\n",
       "        text-align: right;\n",
       "    }\n",
       "</style>\n",
       "<table border=\"1\" class=\"dataframe\">\n",
       "  <thead>\n",
       "    <tr style=\"text-align: right;\">\n",
       "      <th></th>\n",
       "      <th>Chinese</th>\n",
       "    </tr>\n",
       "  </thead>\n",
       "  <tbody>\n",
       "    <tr>\n",
       "      <th>0</th>\n",
       "      <td>https://zhs.globalvoices.org/2018/12/20/16012/</td>\n",
       "    </tr>\n",
       "    <tr>\n",
       "      <th>1</th>\n",
       "      <td>é©¬å…¶é¡¿é¦–éƒ½è¡Œäººå�‘éš¾ï¼šè½¦ä¸»ã€�é¤�é¦†ä...</td>\n",
       "    </tr>\n",
       "    <tr>\n",
       "      <th>2</th>\n",
       "      <td>é›†é”¦ï¼š#ÐˆÐ°Ð²ÐµÐ½ÐŸÑ€Ð¾Ñ�Ñ‚Ð¾Ñ€ï¼ˆå…¬å…±ç©º...</td>\n",
       "    </tr>\n",
       "    <tr>\n",
       "      <th>3</th>\n",
       "      <td>ï¼ˆåŽŸæ–‡å�‘è¡¨äºŽ 2018 å¹´å››æœˆäºŒå��å››æ—¥ï¼‰</td>\n",
       "    </tr>\n",
       "    <tr>\n",
       "      <th>4</th>\n",
       "      <td>åœ¨é©¬å…¶é¡¿ï¼ˆMacedoniaï¼‰é¦–éƒ½å�²é«˜æ¯”è€¶ï...</td>\n",
       "    </tr>\n",
       "  </tbody>\n",
       "</table>\n",
       "</div>"
      ],
      "text/plain": [
       "                                             Chinese\n",
       "0     https://zhs.globalvoices.org/2018/12/20/16012/\n",
       "1  é©¬å…¶é¡¿é¦–éƒ½è¡Œäººå�‘éš¾ï¼šè½¦ä¸»ã€�é¤�é¦†ä...\n",
       "2  é›†é”¦ï¼š#ÐˆÐ°Ð²ÐµÐ½ÐŸÑ€Ð¾Ñ�Ñ‚Ð¾Ñ€ï¼ˆå…¬å…±ç©º...\n",
       "3   ï¼ˆåŽŸæ–‡å�‘è¡¨äºŽ 2018 å¹´å››æœˆäºŒå��å››æ—¥ï¼‰\n",
       "4  åœ¨é©¬å…¶é¡¿ï¼ˆMacedoniaï¼‰é¦–éƒ½å�²é«˜æ¯”è€¶ï..."
      ]
     },
     "execution_count": 21,
     "metadata": {},
     "output_type": "execute_result"
    }
   ],
   "source": [
    "#Loading Chinese Data\n",
    "chi_df =pd.read_csv(\"chinese.txt\",\"utf-8\",header=None,engine ='python', names=[\"Chinese\"])\n",
    "chi_df.head()"
   ]
  },
  {
   "cell_type": "code",
   "execution_count": 22,
   "metadata": {},
   "outputs": [
    {
     "name": "stdout",
     "output_type": "stream",
     "text": [
      "! \" # $ % & ' ( ) * + , - . / : ; < = > ? @ [ \\ ] ^ _ ` { | } ~ "
     ]
    }
   ],
   "source": [
    "for char in string.punctuation:\n",
    "    print(char,end=\" \")\n",
    "translate_table =dict((ord(char),None) for char in string.punctuation)"
   ]
  },
  {
   "cell_type": "code",
   "execution_count": 33,
   "metadata": {},
   "outputs": [],
   "source": [
    "data_eng=[]\n",
    "lang_eng=[]\n",
    "for i,line in eng_df.iterrows():\n",
    "    line = line['English']\n",
    "    if len(line) !=0:\n",
    "        line = line.lower()\n",
    "        line =re.sub(r\"\\d+\",\"\",line)\n",
    "        line = line.translate(translate_table)\n",
    "        data_eng.append(line)\n",
    "        lang_eng.append(\"English\")"
   ]
  },
  {
   "cell_type": "code",
   "execution_count": 34,
   "metadata": {},
   "outputs": [],
   "source": [
    "data_ger=[]\n",
    "lang_ger=[]\n",
    "for i,line in ger_df.iterrows():\n",
    "    line = line['German']\n",
    "    if len(line) !=0:\n",
    "        line = line.lower()\n",
    "        line =re.sub(r\"\\d+\",\"\",line)\n",
    "        line = line.translate(translate_table)\n",
    "        data_ger.append(line)\n",
    "        lang_ger.append(\"German\")"
   ]
  },
  {
   "cell_type": "code",
   "execution_count": 35,
   "metadata": {},
   "outputs": [],
   "source": [
    "data_fre=[]\n",
    "lang_fre=[]\n",
    "for i,line in fre_df.iterrows():\n",
    "    line = line['French']\n",
    "    if len(line) !=0:\n",
    "        line = line.lower()\n",
    "        line =re.sub(r\"\\d+\",\"\",line)\n",
    "        line = line.translate(translate_table)\n",
    "        data_fre.append(line)\n",
    "        lang_fre.append(\"French\")"
   ]
  },
  {
   "cell_type": "code",
   "execution_count": 36,
   "metadata": {},
   "outputs": [],
   "source": [
    "data_spa=[]\n",
    "lang_spa=[]\n",
    "for i,line in spa_df.iterrows():\n",
    "    line = line['Spanish']\n",
    "    if len(line) !=0:\n",
    "        line = line.lower()\n",
    "        line =re.sub(r\"\\d+\",\"\",line)\n",
    "        line = line.translate(translate_table)\n",
    "        data_spa.append(line)\n",
    "        lang_spa.append(\"Spanish\")"
   ]
  },
  {
   "cell_type": "code",
   "execution_count": 37,
   "metadata": {},
   "outputs": [],
   "source": [
    "data_chi=[]\n",
    "lang_chi=[]\n",
    "for i,line in chi_df.iterrows():\n",
    "    line = line['Chinese']\n",
    "    if len(line) !=0:\n",
    "        line = line.lower()\n",
    "        line =re.sub(r\"\\d+\",\"\",line)\n",
    "        line = re.sub(r\"[a-zA-Z]+\",\"\", line)\n",
    "        line = line.translate(translate_table)\n",
    "        data_chi.append(line)\n",
    "        lang_chi.append(\"Chinese (Traditional)\")"
   ]
  },
  {
   "cell_type": "code",
   "execution_count": 38,
   "metadata": {},
   "outputs": [
    {
     "name": "stdout",
     "output_type": "stream",
     "text": [
      "(186, 2)\n"
     ]
    }
   ],
   "source": [
    "df = pd.DataFrame({\"Text\":data_eng+data_fre+data_ger+data_spa+data_chi, \"language\":lang_eng+lang_ger+lang_fre+lang_spa+lang_chi})\n",
    "print(df.shape)"
   ]
  },
  {
   "cell_type": "code",
   "execution_count": 39,
   "metadata": {},
   "outputs": [
    {
     "name": "stdout",
     "output_type": "stream",
     "text": [
      "(148,)\n",
      "(38,)\n",
      "(148,)\n",
      "(38,)\n"
     ]
    }
   ],
   "source": [
    "X, y=df.iloc[:,0],df.iloc[:,0]\n",
    "X_train,X_test,y_train,y_test=train_test_split(X,y,test_size=0.2,random_state=0)\n",
    "print(X_train.shape)\n",
    "print(X_test.shape)\n",
    "print(y_train.shape)\n",
    "print(y_test.shape)"
   ]
  },
  {
   "cell_type": "code",
   "execution_count": 42,
   "metadata": {},
   "outputs": [
    {
     "data": {
      "text/plain": [
       "Pipeline(steps=[('vectorizer',\n",
       "                 TfidfVectorizer(analyzer='char', ngram_range=(1, 3))),\n",
       "                ('clf', LogisticRegression())])"
      ]
     },
     "execution_count": 42,
     "metadata": {},
     "output_type": "execute_result"
    }
   ],
   "source": [
    "vectorizer =feature_extraction.text.TfidfVectorizer(ngram_range=(1,3),analyzer='char')\n",
    "pipe_lr_r13=pipeline.Pipeline([('vectorizer',vectorizer),('clf',linear_model.LogisticRegression())])\n",
    "pipe_lr_r13.fit(X_train, y_train)"
   ]
  },
  {
   "cell_type": "code",
   "execution_count": 43,
   "metadata": {},
   "outputs": [
    {
     "name": "stdout",
     "output_type": "stream",
     "text": [
      "0.0 %\n"
     ]
    }
   ],
   "source": [
    "y_predicted=pipe_lr_r13.predict(X_test)\n",
    "acc=(metrics.accuracy_score(y_test, y_predicted))*100\n",
    "print(acc,'%')"
   ]
  },
  {
   "cell_type": "code",
   "execution_count": 44,
   "metadata": {},
   "outputs": [
    {
     "name": "stdout",
     "output_type": "stream",
     "text": [
      "Confusion Matrix : \n",
      " [[0 0 0 ... 0 0 1]\n",
      " [0 0 0 ... 0 0 0]\n",
      " [0 0 0 ... 0 0 0]\n",
      " ...\n",
      " [0 0 0 ... 0 0 1]\n",
      " [0 0 0 ... 0 0 1]\n",
      " [0 0 0 ... 0 0 0]]\n"
     ]
    }
   ],
   "source": [
    "matrix=metrics.confusion_matrix(y_test, y_predicted)\n",
    "print('Confusion Matrix : \\n', matrix)"
   ]
  },
  {
   "cell_type": "code",
   "execution_count": 45,
   "metadata": {},
   "outputs": [],
   "source": [
    "import pickle\n",
    "#persisit model so that it can be used by different consumers\n",
    "lrFile =open('LRModel.pckl', 'wb')\n",
    "pickle.dump(pipe_lr_r13, lrFile)\n",
    "lrFile.close()"
   ]
  },
  {
   "cell_type": "code",
   "execution_count": 46,
   "metadata": {},
   "outputs": [],
   "source": [
    "global lrLangDetectModel\n",
    "lrLangDetectFile =open('LRModel.pckl','rb')\n",
    "lrLangDetectModel = pickle.load(lrLangDetectFile)\n",
    "lrLangDetectFile.close()"
   ]
  },
  {
   "cell_type": "code",
   "execution_count": 48,
   "metadata": {},
   "outputs": [],
   "source": [
    "def lang_detect(text):\n",
    "    import numpy as np\n",
    "    import string\n",
    "    import re\n",
    "    import pickle\n",
    "    translate_table=dict((ord(char), None) for char in string.punctuation)\n",
    "    \n",
    "    global lrLangDetectModel\n",
    "    lrLangDetectFile =open('LRModel.pckl','rb')\n",
    "    lrLangDetectModel = pickle.load(lrLangDetectFile)\n",
    "    lrLangDetectFile.close()\n",
    "    \n",
    "    text=\" \".join(text.split())\n",
    "    text=text.lower()\n",
    "    text =re.sub(r\"\\d+\",\"\",text)\n",
    "    text=text.translate(translate_table)\n",
    "    pred =lrLangDetectModel.predict([text])\n",
    "    prob = lrLangDetectModel.predict_proba([text])\n",
    "    return pred[0]\n",
    "    "
   ]
  },
  {
   "cell_type": "code",
   "execution_count": 49,
   "metadata": {},
   "outputs": [
    {
     "data": {
      "text/plain": [
       "'ï¼ˆå…¬å…±ç©ºé—´ï¼‰'"
      ]
     },
     "execution_count": 49,
     "metadata": {},
     "output_type": "execute_result"
    }
   ],
   "source": [
    "lang_detect(\"Hello World\")"
   ]
  },
  {
   "cell_type": "code",
   "execution_count": 50,
   "metadata": {},
   "outputs": [
    {
     "data": {
      "text/plain": [
       "'ï¼ˆå…¬å…±ç©ºé—´ï¼‰'"
      ]
     },
     "execution_count": 50,
     "metadata": {},
     "output_type": "execute_result"
    }
   ],
   "source": [
    "lang_detect(\"Bonjour\")"
   ]
  },
  {
   "cell_type": "code",
   "execution_count": null,
   "metadata": {},
   "outputs": [],
   "source": []
  }
 ],
 "metadata": {
  "kernelspec": {
   "display_name": "Python 3",
   "language": "python",
   "name": "python3"
  },
  "language_info": {
   "codemirror_mode": {
    "name": "ipython",
    "version": 3
   },
   "file_extension": ".py",
   "mimetype": "text/x-python",
   "name": "python",
   "nbconvert_exporter": "python",
   "pygments_lexer": "ipython3",
   "version": "3.7.0"
  }
 },
 "nbformat": 4,
 "nbformat_minor": 2
}
